{
 "cells": [
  {
   "cell_type": "markdown",
   "metadata": {},
   "source": [
    "# Clustering\n",
    "\n",
    "## With K-Means & Hierarchical Clustering"
   ]
  },
  {
   "cell_type": "code",
   "execution_count": 1,
   "metadata": {},
   "outputs": [],
   "source": [
    "import pandas as pd\n",
    "import matplotlib.pyplot as plt\n",
    "import numpy as np\n",
    "\n",
    "from scipy.cluster.hierarchy import single, complete, average, ward, dendrogram, fcluster\n",
    "from sklearn.cluster import KMeans\n",
    "from kneed import KneeLocator\n",
    "\n",
    "from helper_functions import cm_to_inch "
   ]
  },
  {
   "cell_type": "code",
   "execution_count": 22,
   "metadata": {},
   "outputs": [],
   "source": [
    "plt.style.use(['seaborn-whitegrid'])\n",
    "plt.rcParams[\"font.family\"] = \"Times new roman\"\n",
    "plt.rcParams['axes.axisbelow'] = True\n",
    "plt.rcParams['figure.dpi'] = 150\n",
    "plt.rcParams['font.size'] = 15\n",
    "plt.rcParams['xtick.labelsize'] = 15\n",
    "plt.rcParams['ytick.labelsize'] = 15"
   ]
  },
  {
   "cell_type": "code",
   "execution_count": 2,
   "metadata": {},
   "outputs": [],
   "source": [
    "week_dist_matrix = pd.read_excel('week_dist_matrix.xlsx', index_col=0)"
   ]
  },
  {
   "cell_type": "code",
   "execution_count": 23,
   "metadata": {},
   "outputs": [],
   "source": [
    "def hierarchical_clustering(distance_matrix, method='complete'):\n",
    "    if method == 'complete':\n",
    "        Z = complete(distance_matrix)\n",
    "    if method == 'single':\n",
    "        Z = single(distance_matrix)\n",
    "    if method == 'average':\n",
    "        Z = average(distance_matrix)\n",
    "    if method == 'ward':\n",
    "        Z = ward(distance_matrix)\n",
    "    \n",
    "    return Z"
   ]
  },
  {
   "cell_type": "code",
   "execution_count": 25,
   "metadata": {},
   "outputs": [],
   "source": [
    "def plot_dendrogram(linkage_matrix, save_path=None):\n",
    "    plt.figure(figsize=(cm_to_inch(29), cm_to_inch(20)))\n",
    "    # plt.title('Hierarchical Clustering Dendrogram', fontsize=15)\n",
    "    # plt.xlabel('Clusters', fontsize=15)\n",
    "    # plt.ylabel('Distance', fontsize=15)\n",
    "    plt.xlabel('Gruče', fontsize=15)\n",
    "    plt.ylabel('Razdalja', fontsize=15)\n",
    "    \n",
    "    # dendrogram plot\n",
    "    ddata = dendrogram(linkage_matrix, orientation='top',\n",
    "               truncate_mode='lastp', p=8,\n",
    "               labels=True, get_leaves=True,\n",
    "               show_leaf_counts=True,\n",
    "               show_contracted=True)\n",
    "    \n",
    "    # cluster points & distance labels plot\n",
    "    limit = 4\n",
    "    for i, d, c in zip(ddata['icoord'], ddata['dcoord'], ddata['color_list']):\n",
    "        x = sum(i[1:3]) / 2\n",
    "        y = d[1]\n",
    "        if y > limit:\n",
    "            plt.plot(x, y, 'o', c=c, markeredgewidth=0)\n",
    "            plt.annotate(int(y), (x, y), xytext=(0, -5),\n",
    "                        textcoords='offset points',\n",
    "                        va='top', ha='center', fontsize=15)\n",
    "    \n",
    "    # distance plot\n",
    "#     line = 84\n",
    "#     plt.axhline(y=line, c='black', linestyle='--')\n",
    "    \n",
    "    if save_path:\n",
    "        plt.savefig(save_path, dpi=200, bbox_inches='tight')\n",
    "        plt.close()"
   ]
  },
  {
   "cell_type": "code",
   "execution_count": 13,
   "metadata": {},
   "outputs": [
    {
     "name": "stderr",
     "output_type": "stream",
     "text": [
      "C:\\Users\\Luka\\Anaconda3\\lib\\site-packages\\scipy\\cluster\\hierarchy.py:830: ClusterWarning: scipy.cluster: The symmetric non-negative hollow observation matrix looks suspiciously like an uncondensed distance matrix\n",
      "  return linkage(y, method='ward', metric='euclidean')\n"
     ]
    }
   ],
   "source": [
    "linkage_matrix = hierarchical_clustering(week_dist_matrix, method='ward')"
   ]
  },
  {
   "cell_type": "code",
   "execution_count": 27,
   "metadata": {},
   "outputs": [],
   "source": [
    "plot_dendrogram(linkage_matrix, save_path='images/dendrogram.jpg')"
   ]
  },
  {
   "cell_type": "code",
   "execution_count": 28,
   "metadata": {},
   "outputs": [],
   "source": [
    "def kmeans_elbow_method(input_matrix, n_clusters, kmeans_kwargs):\n",
    "    sse = []\n",
    "    for k in range(1, n_clusters):\n",
    "        kmeans = KMeans(n_clusters=k, **kmeans_kwargs)\n",
    "        kmeans.fit(input_matrix)\n",
    "        sse.append(kmeans.inertia_)\n",
    "    return sse"
   ]
  },
  {
   "cell_type": "code",
   "execution_count": 29,
   "metadata": {},
   "outputs": [],
   "source": [
    "def elbow_method_plot(sse, n_clusters, save_path=None):\n",
    "    plt.figure(figsize=(cm_to_inch(20), cm_to_inch(20)))\n",
    "    # plt.title('Elbow Method', fontsize=15)\n",
    "    plt.style.use('fivethirtyeight')\n",
    "    plt.plot(range(1, n_clusters), sse)\n",
    "    # plt.xlabel('Number of Clusters', fontsize=15)\n",
    "    plt.xlabel('Število grup', fontsize=15)\n",
    "    plt.ylabel('SSE', fontsize=15)\n",
    "    \n",
    "    # elbow point\n",
    "    k1 = KneeLocator(range(1, n_clusters), sse, curve='convex', direction='decreasing')\n",
    "    plt.vlines(x=k1.elbow, ymin=0, ymax=35000, linestyle='--')\n",
    "    \n",
    "    if save_path:\n",
    "        plt.savefig(save_path, dpi=200, bbox_inches='tight')\n",
    "        plt.close()"
   ]
  },
  {
   "cell_type": "code",
   "execution_count": 30,
   "metadata": {},
   "outputs": [],
   "source": [
    "kmeans_kwargs = {\n",
    "    'init': 'random', 'n_init': 10, 'max_iter': 300, 'random_state': 42\n",
    "}\n",
    "\n",
    "sse = kmeans_elbow_method(week_dist_matrix, 11, kmeans_kwargs)"
   ]
  },
  {
   "cell_type": "code",
   "execution_count": 14,
   "metadata": {},
   "outputs": [],
   "source": [
    "elbow_method_plot(sse, 11, save_path='images/elbow.jpg')"
   ]
  },
  {
   "cell_type": "markdown",
   "metadata": {},
   "source": [
    "# K-Means vs Hierarchical Clustering"
   ]
  },
  {
   "cell_type": "markdown",
   "metadata": {},
   "source": [
    "## Comparing cluster sizes"
   ]
  },
  {
   "cell_type": "code",
   "execution_count": 7,
   "metadata": {},
   "outputs": [],
   "source": [
    "def cluster_size(cluster_labels):\n",
    "    \n",
    "    cluster_obj = dict()\n",
    "    for i in cluster_labels:\n",
    "        if i in cluster_obj:\n",
    "            cluster_obj[i] += 1\n",
    "        else:\n",
    "            cluster_obj[i] = 0\n",
    "            cluster_obj[i] += 1\n",
    "            \n",
    "    cluster_obj = dict(sorted(cluster_obj.items(), key=lambda item: item[1], reverse=True)) \n",
    "    keys = list(k for k in range(len(np.unique(cluster_labels))))\n",
    "    cluster_obj = dict(zip(keys, list(cluster_obj.values())))\n",
    "        \n",
    "    return cluster_obj"
   ]
  },
  {
   "cell_type": "code",
   "execution_count": 34,
   "metadata": {},
   "outputs": [
    {
     "name": "stdout",
     "output_type": "stream",
     "text": [
      "[1 2 3 4 5 6]\n",
      "[0 1 2 3 4 5]\n"
     ]
    }
   ],
   "source": [
    "# creating clusters \n",
    "\n",
    "num_clust = 6\n",
    "\n",
    "# hierarchical clustering\n",
    "hc_cluster_labels = fcluster(linkage_matrix, num_clust, criterion='maxclust')\n",
    "print(np.unique(hc_cluster_labels))\n",
    "\n",
    "# kmeans clustering\n",
    "km_cluster_labels = KMeans(init='random', n_clusters=num_clust, n_init=10, max_iter=300, random_state=42).fit_predict(week_dist_matrix)\n",
    "print(np.unique(km_cluster_labels))"
   ]
  },
  {
   "cell_type": "code",
   "execution_count": 35,
   "metadata": {},
   "outputs": [
    {
     "data": {
      "text/plain": [
       "{0: 1153, 1: 927, 2: 341, 3: 63, 4: 36, 5: 9}"
      ]
     },
     "metadata": {},
     "output_type": "display_data"
    },
    {
     "data": {
      "text/plain": [
       "{0: 1093, 1: 619, 2: 565, 3: 168, 4: 66, 5: 18}"
      ]
     },
     "metadata": {},
     "output_type": "display_data"
    }
   ],
   "source": [
    "hc_obj = cluster_size(hc_cluster_labels)\n",
    "km_obj = cluster_size(km_cluster_labels)\n",
    "\n",
    "display(hc_obj, km_obj)"
   ]
  },
  {
   "cell_type": "code",
   "execution_count": 40,
   "metadata": {},
   "outputs": [
    {
     "data": {
      "image/png": "[encoded data removed]",
      "text/plain": [
       "<Figure size 1181.1x1181.1 with 1 Axes>"
      ]
     },
     "metadata": {},
     "output_type": "display_data"
    }
   ],
   "source": [
    "labels = ['S{}'.format(c) for c in range(1, num_clust + 1)]\n",
    "km_data = [km_obj[i] for i in range(len(km_obj))]\n",
    "hc_data = [hc_obj[i] for i in range(len(hc_obj))]\n",
    "\n",
    "x = np.arange(len(labels))\n",
    "width = 0.35\n",
    "\n",
    "fig, ax = plt.subplots(figsize=(cm_to_inch(20), cm_to_inch(20)))\n",
    "rects1 = ax.bar(x - width/2, km_data, width, label='KM')\n",
    "rects2 = ax.bar(x + width/2, hc_data, width, label='HG')\n",
    "\n",
    "# Add some text for labels, title and custom x-axis tick labels, etc.\n",
    "# ax.set_ylabel('Cluster size')\n",
    "ax.set_ylabel('Velikost gruč', fontsize=15)\n",
    "# ax.set_title('Cluster size by group and method')\n",
    "ax.set_xticks(x)\n",
    "ax.set_xticklabels(labels, fontsize=15)\n",
    "ax.legend()\n",
    "\n",
    "\n",
    "def autolabel(rects):\n",
    "    \"\"\"Attach a text label above each bar in *rects*, displaying its height.\"\"\"\n",
    "    for rect in rects:\n",
    "        height = rect.get_height()\n",
    "        ax.annotate('{}'.format(height),\n",
    "                    xy=(rect.get_x() + rect.get_width() / 2, height),\n",
    "                    xytext=(0, 3),  # 3 points vertical offset\n",
    "                    textcoords=\"offset points\",\n",
    "                    ha='center', va='bottom')\n",
    "        \n",
    "        \n",
    "autolabel(rects1)\n",
    "autolabel(rects2)\n",
    "\n",
    "fig.tight_layout()\n",
    "plt.savefig('images/cluster_size_comparison.jpg', dpi=200, bbox_inches='tight')\n",
    "\n",
    "plt.show()"
   ]
  },
  {
   "cell_type": "markdown",
   "metadata": {},
   "source": [
    "## Comparing user profiles inside clusters"
   ]
  },
  {
   "cell_type": "code",
   "execution_count": 9,
   "metadata": {},
   "outputs": [],
   "source": [
    "usernames = pd.read_csv('profiles_translation.csv', index_col=0)\n",
    "up_week = pd.read_excel('weekly_user_profiles.xlsx', index_col=0)"
   ]
  },
  {
   "cell_type": "code",
   "execution_count": 41,
   "metadata": {},
   "outputs": [],
   "source": [
    "UN = usernames.columns[0]"
   ]
  },
  {
   "cell_type": "code",
   "execution_count": 96,
   "metadata": {},
   "outputs": [],
   "source": [
    "def user_groups_from_cluster(cluster_labels):\n",
    "    group_user = []\n",
    "    for i in np.unique(cluster_labels):\n",
    "        group_user.append([count for count, ii in enumerate(cluster_labels) if ii == i])\n",
    "    group_user = sorted(group_user, key=len)\n",
    "    return group_user"
   ]
  },
  {
   "cell_type": "code",
   "execution_count": 103,
   "metadata": {},
   "outputs": [],
   "source": [
    "def user_group_plot(user_group, title=None, save_path=None):\n",
    "    plt.figure(figsize=(cm_to_inch(10), cm_to_inch(10)))\n",
    "    plt.title(title, fontsize=15)\n",
    "    select = []\n",
    "    for i in user_group:\n",
    "        select.append(usernames.at[i, UN])\n",
    "        plt.plot(up_week[usernames.at[i, UN]], alpha=0.1, lw=1)\n",
    "    plt.plot(up_week[select].mean(axis=1), alpha=1, lw=2, color='black')\n",
    "    plt.xlabel('t[h]', fontsize=15)\n",
    "    if save_path:\n",
    "        plt.savefig(save_path, dpi=200, bbox_inches='tight')\n",
    "        plt.close()\n",
    "    plt.show()    "
   ]
  },
  {
   "cell_type": "code",
   "execution_count": 97,
   "metadata": {},
   "outputs": [],
   "source": [
    "hc_group = user_groups_from_cluster(hc_cluster_labels)\n",
    "km_group = user_groups_from_cluster(km_cluster_labels)"
   ]
  },
  {
   "cell_type": "code",
   "execution_count": 104,
   "metadata": {},
   "outputs": [],
   "source": [
    "t_index = 1\n",
    "for i in range(num_clust - 1, -1, -1):\n",
    "    user_group_plot(hc_group[i], title='Gruča S{} - HG'.format(t_index), save_path='images/group_s{}_hc.jpg'.format(t_index))\n",
    "    user_group_plot(km_group[i], title='Gruča S{} - KM'.format(t_index), save_path='images/group_s{}_km.jpg'.format(t_index))\n",
    "    t_index += 1\n",
    "    "
   ]
  },
  {
   "cell_type": "code",
   "execution_count": 98,
   "metadata": {},
   "outputs": [
    {
     "name": "stdout",
     "output_type": "stream",
     "text": [
      "HC Group:  9 KM Group:  18\n",
      "HC Group:  36 KM Group:  66\n",
      "HC Group:  63 KM Group:  168\n",
      "HC Group:  341 KM Group:  565\n",
      "HC Group:  927 KM Group:  619\n",
      "HC Group:  1153 KM Group:  1093\n"
     ]
    }
   ],
   "source": [
    "for i in range(num_clust):\n",
    "    print('HC Group: ', len(hc_group[i]), 'KM Group: ', len(km_group[i]))"
   ]
  },
  {
   "cell_type": "code",
   "execution_count": 136,
   "metadata": {},
   "outputs": [],
   "source": [
    "g_index = 6\n",
    "for i in range(len(hc_group)):\n",
    "    select = list()\n",
    "    for j in hc_group[i]:\n",
    "        select.append(usernames.at[j, UN])\n",
    "    df = pd.DataFrame(select, columns=['Group S{}'.format(g_index)])\n",
    "    df.to_excel('clusters_data/hc_useranmes_s{}.xlsx'.format(g_index))\n",
    "    g_index -= 1\n",
    "    \n",
    "\n",
    "g_index = 6\n",
    "for i in range(len(km_group)):\n",
    "    select = list()\n",
    "    for j in km_group[i]:\n",
    "        select.append(usernames.at[j, UN])\n",
    "    df = pd.DataFrame(select, columns=['Group S{}'.format(g_index)])\n",
    "    df.to_excel('clusters_data/km_useranmes_s{}.xlsx'.format(g_index))\n",
    "    g_index -= 1"
   ]
  }
 ],
 "metadata": {
  "kernelspec": {
   "display_name": "Python 3",
   "language": "python",
   "name": "python3"
  },
  "language_info": {
   "codemirror_mode": {
    "name": "ipython",
    "version": 3
   },
   "file_extension": ".py",
   "mimetype": "text/x-python",
   "name": "python",
   "nbconvert_exporter": "python",
   "pygments_lexer": "ipython3",
   "version": "3.7.4"
  }
 },
 "nbformat": 4,
 "nbformat_minor": 2
}
