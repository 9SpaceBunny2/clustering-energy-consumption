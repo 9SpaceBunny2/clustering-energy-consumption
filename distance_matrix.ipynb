{
 "cells": [
  {
   "cell_type": "markdown",
   "metadata": {},
   "source": [
    "# Distance matrix"
   ]
  },
  {
   "cell_type": "code",
   "execution_count": 1,
   "metadata": {},
   "outputs": [],
   "source": [
    "import pandas as pd\n",
    "import matplotlib.pyplot as plt\n",
    "import numpy as np\n",
    "\n",
    "from tqdm import tqdm\n",
    "from mpl_toolkits.axes_grid1 import make_axes_locatable\n",
    "from matplotlib import colors\n",
    "\n",
    "from helper_functions import cm_to_inch "
   ]
  },
  {
   "cell_type": "code",
   "execution_count": 2,
   "metadata": {},
   "outputs": [],
   "source": [
    "plt.style.use(['seaborn'])\n",
    "plt.rcParams[\"font.family\"] = \"Times new roman\"\n",
    "plt.rcParams['axes.axisbelow'] = True\n",
    "plt.rcParams['font.size'] = 15\n",
    "plt.rcParams['xtick.labelsize'] = 15\n",
    "plt.rcParams['ytick.labelsize'] = 15"
   ]
  },
  {
   "cell_type": "code",
   "execution_count": 3,
   "metadata": {},
   "outputs": [],
   "source": [
    "daily_user_profiles = pd.read_excel('daily_user_profiles.xlsx', index_col=0)\n",
    "weekly_user_profiles = pd.read_excel('weekly_user_profiles.xlsx', index_col=0)\n",
    "monthly_user_profiles = pd.read_excel('monthly_user_profiles.xlsx', index_col=0)"
   ]
  },
  {
   "cell_type": "code",
   "execution_count": 4,
   "metadata": {},
   "outputs": [],
   "source": [
    "def minkowski_distance(a, b):\n",
    "    dist = np.linalg.norm(a - b)\n",
    "    return np.sum(dist)\n",
    "\n",
    "def create_distance_matrix(time_series):\n",
    "    N = len(time_series.columns)\n",
    "    col = time_series.columns\n",
    "    dist_matrix = np.zeros([N, N], float)\n",
    "    for i in tqdm(range(N)):\n",
    "        for j in range(i + 1, N, 1):\n",
    "            dist_matrix[i, j] = minkowski_distance(time_series[col[i]], time_series[col[j]])\n",
    "            dist_matrix[j, i] = dist_matrix[i, j]\n",
    "    dist_matrix = (dist_matrix - min(dist_matrix.ravel())) / (max(dist_matrix.ravel()) - min(dist_matrix.ravel()))\n",
    "    return dist_matrix"
   ]
  },
  {
   "cell_type": "code",
   "execution_count": null,
   "metadata": {},
   "outputs": [
    {
     "name": "stderr",
     "output_type": "stream",
     "text": [
      " 17%|█████████████▌                                                                 | 436/2529 [02:50<16:00,  2.18it/s]"
     ]
    }
   ],
   "source": [
    "day_dist_matrix = create_distance_matrix(daily_user_profiles)"
   ]
  },
  {
   "cell_type": "code",
   "execution_count": 5,
   "metadata": {},
   "outputs": [
    {
     "name": "stderr",
     "output_type": "stream",
     "text": [
      "100%|██████████████████████████████████████████████████████████████████████████████| 2529/2529 [09:22<00:00,  4.50it/s]\n"
     ]
    }
   ],
   "source": [
    "week_dist_matrix = create_distance_matrix(weekly_user_profiles)"
   ]
  },
  {
   "cell_type": "code",
   "execution_count": null,
   "metadata": {},
   "outputs": [],
   "source": [
    "month_dist_matrix = create_distance_matrix(monthly_user_profiles)"
   ]
  },
  {
   "cell_type": "code",
   "execution_count": 8,
   "metadata": {},
   "outputs": [],
   "source": [
    "def plot_matrix(matrix, save_path=None):\n",
    "    plt.figure(figsize = (cm_to_inch(15), cm_to_inch(15)))\n",
    "    ax = plt.gca()\n",
    "    im = ax.imshow(matrix, cmap=plt.cm.get_cmap('jet', 5))\n",
    "    plt.xlabel(\"X\", fontsize=15)\n",
    "    plt.ylabel(\"Y\", fontsize=15)\n",
    "    divider = make_axes_locatable(ax)\n",
    "    cax = divider.append_axes(\"right\", size=\"5%\", pad=0.05)\n",
    "    plt.colorbar(im, cax=cax)\n",
    "    plt.tight_layout()\n",
    "    if save_path:\n",
    "        plt.savefig(save_path, dpi=200, bbox_inches='tight')\n",
    "        plt.close()"
   ]
  },
  {
   "cell_type": "code",
   "execution_count": null,
   "metadata": {},
   "outputs": [],
   "source": [
    "def plot_binary_matrix(matrix, save_path=None):\n",
    "    \n",
    "    x = np.ma.filled(matrix < 0.1)\n",
    "    x = np.multiply(x, 1.0)\n",
    "    \n",
    "    # make a color map of fixed colors\n",
    "    cmap = colors.ListedColormap(['white', 'black'])\n",
    "\n",
    "    plt.figure(figsize = (cm_to_inch(10), cm_to_inch(10)))\n",
    "    ax = plt.gca()\n",
    "    im = ax.imshow(x, origin='lower', cmap=cmap) # cmap='viridis'\n",
    "    plt.gca().invert_yaxis()\n",
    "    plt.xlabel(\"X\", fontsize=15)\n",
    "    plt.ylabel(\"Y\", fontsize=15)\n",
    "    \n",
    "    # make a color bar\n",
    "    divider = make_axes_locatable(ax)\n",
    "    cax = divider.append_axes(\"right\", size=\"5%\", pad=0.05)\n",
    "    cb = plt.colorbar(im, cax=cax, ticks=[0.0, 1.0])\n",
    "\n",
    "    plt.tight_layout()\n",
    "    if save_path:\n",
    "        plt.savefig(save_path, dpi=200, bbox_inches='tight')\n",
    "        plt.close()"
   ]
  },
  {
   "cell_type": "code",
   "execution_count": 10,
   "metadata": {},
   "outputs": [],
   "source": [
    "plot_matrix(week_dist_matrix, save_path='images/week_dist.jpg')\n",
    "plot_binary_matrix(week_dist_matrix, save_path='images/week_binary.jpg')"
   ]
  },
  {
   "cell_type": "code",
   "execution_count": null,
   "metadata": {},
   "outputs": [],
   "source": [
    "plot_binary_matrix(day_dist_matrix, save_path='images/day_binary.jpg')\n",
    "plot_binary_matrix(week_dist_matrix, save_path='images/week_binary.jpg')\n",
    "plot_binary_matrix(month_dist_matrix, save_path='images/month_binary.jpg')"
   ]
  },
  {
   "cell_type": "code",
   "execution_count": 49,
   "metadata": {},
   "outputs": [],
   "source": [
    "df_day_matrix = pd.DataFrame(day_dist_matrix)\n",
    "df_week_matrix = pd.DataFrame(week_dist_matrix)\n",
    "df_month_matrix = pd.DataFrame(month_dist_matrix)"
   ]
  },
  {
   "cell_type": "code",
   "execution_count": 50,
   "metadata": {},
   "outputs": [],
   "source": [
    "df_day_matrix.to_excel('day_dist_matrix.xlsx')\n",
    "df_week_matrix.to_excel('week_dist_matrix.xlsx')\n",
    "df_month_matrix.to_excel('month_dist_matrix.xlsx')"
   ]
  },
  {
   "cell_type": "code",
   "execution_count": null,
   "metadata": {},
   "outputs": [],
   "source": []
  }
 ],
 "metadata": {
  "kernelspec": {
   "display_name": "Python 3",
   "language": "python",
   "name": "python3"
  },
  "language_info": {
   "codemirror_mode": {
    "name": "ipython",
    "version": 3
   },
   "file_extension": ".py",
   "mimetype": "text/x-python",
   "name": "python",
   "nbconvert_exporter": "python",
   "pygments_lexer": "ipython3",
   "version": "3.7.4"
  }
 },
 "nbformat": 4,
 "nbformat_minor": 2
}
