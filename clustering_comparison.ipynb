{
 "cells": [
  {
   "cell_type": "code",
   "execution_count": 30,
   "metadata": {},
   "outputs": [],
   "source": [
    "import pandas as pd\n",
    "import matplotlib.pyplot as plt"
   ]
  },
  {
   "cell_type": "code",
   "execution_count": 2,
   "metadata": {},
   "outputs": [],
   "source": [
    "NUM_CLUST = 6"
   ]
  },
  {
   "cell_type": "code",
   "execution_count": 26,
   "metadata": {},
   "outputs": [],
   "source": [
    "hc_un = list()\n",
    "km_un = list()\n",
    "for n in range(1, NUM_CLUST + 1):\n",
    "    \n",
    "    df = pd.read_excel('clusters_data/hc_useranmes_s{}.xlsx'.format(n), index_col=0)\n",
    "    hc_un.append(df[df.columns[0]].values.tolist())\n",
    "    \n",
    "    df = pd.read_excel('clusters_data/km_useranmes_s{}.xlsx'.format(n), index_col=0)\n",
    "    km_un.append(df[df.columns[0]].values.tolist())"
   ]
  },
  {
   "cell_type": "code",
   "execution_count": 46,
   "metadata": {},
   "outputs": [],
   "source": [
    "users = pd.read_excel('usable_users.xlsx', parse_date=['Time'], index_col='Time')"
   ]
  },
  {
   "cell_type": "code",
   "execution_count": 11,
   "metadata": {},
   "outputs": [],
   "source": [
    "d_profile = pd.read_excel('daily_user_profiles.xlsx')\n",
    "w_profile = pd.read_excel('weekly_user_profiles.xlsx')\n",
    "m_profile = pd.read_excel('monthly_user_profiles.xlsx')"
   ]
  },
  {
   "cell_type": "code",
   "execution_count": 38,
   "metadata": {},
   "outputs": [
    {
     "data": {
      "image/png": "[encoded data removed]",
      "text/plain": [
       "<Figure size 432x288 with 1 Axes>"
      ]
     },
     "metadata": {
      "needs_background": "light"
     },
     "output_type": "display_data"
    }
   ],
   "source": [
    "for i in range(len(hc_un)):\n",
    "    plt.plot(m_profile[hc_un[i]].mean(axis=1))"
   ]
  },
  {
   "cell_type": "code",
   "execution_count": 137,
   "metadata": {},
   "outputs": [
    {
     "name": "stdout",
     "output_type": "stream",
     "text": [
      "HC 1153 KM 1093\n",
      "HC 927 KM 619\n",
      "HC 341 KM 565\n",
      "HC 63 KM 168\n",
      "HC 36 KM 66\n",
      "HC 9 KM 18\n"
     ]
    }
   ],
   "source": [
    "for i in range(6):\n",
    "    print('HC', len(hc_un[i]), 'KM', len(km_un[i]))"
   ]
  },
  {
   "cell_type": "markdown",
   "metadata": {},
   "source": [
    "# Povprečne mesečne vrednosti porabe energije"
   ]
  },
  {
   "cell_type": "code",
   "execution_count": 135,
   "metadata": {},
   "outputs": [
    {
     "name": "stdout",
     "output_type": "stream",
     "text": [
      "[377.94372031264777, 542.7988988449939, 1041.0544390863738, 881.8689874465265, 6815.708690678736, 2811.677643981489]\n",
      "[382.1516460312863, 824.231493979523, 366.9429553304955, 1004.6001031870543, 4192.5670195449775, 2193.086448611115]\n"
     ]
    }
   ],
   "source": [
    "m_users = users.groupby(users.index.month).sum()\n",
    "# display(m_users[hc_un[5]])\n",
    "\n",
    "m_avg_eng = list()\n",
    "m_avg_eng_km = list()\n",
    "for i in range(len(hc_un)):\n",
    "    m_avg_eng.append(m_users[hc_un[i]].mean().mean())\n",
    "    m_avg_eng_km.append(m_users[km_un[i]].mean().mean())\n",
    "\n",
    "print(m_avg_eng)\n",
    "print(m_avg_eng_km)"
   ]
  },
  {
   "cell_type": "code",
   "execution_count": 138,
   "metadata": {},
   "outputs": [
    {
     "name": "stdout",
     "output_type": "stream",
     "text": [
      "[0.5177849473467502, 0.743637123256874, 1.425987423709476, 1.2071134031004338, 9.337677267925212, 3.851890011997606]\n",
      "[0.5235747090409512, 1.1291390727349655, 0.502708272651747, 1.3758576888481402, 5.742914559357263, 3.004446415914505]\n"
     ]
    }
   ],
   "source": [
    "h_users = users.groupby(users.index.hour).mean()\n",
    "# display(h_users[hc_un[5]])\n",
    "\n",
    "h_avg_eng = list()\n",
    "h_avg_eng_km = list()\n",
    "for i in range(len(hc_un)):\n",
    "    h_avg_eng.append(h_users[hc_un[i]].mean().mean())\n",
    "    h_avg_eng_km.append(h_users[km_un[i]].mean().mean())\n",
    "    \n",
    "print(h_avg_eng)\n",
    "print(h_avg_eng_km)"
   ]
  },
  {
   "cell_type": "code",
   "execution_count": 139,
   "metadata": {},
   "outputs": [
    {
     "name": "stdout",
     "output_type": "stream",
     "text": [
      "[94.9224969643335, 58.07285701308637, 24.315883474383927, 17.706570317511378, 239.19054757402424, 14.473180539295662]\n",
      "[12.265822311711203, 58.07285701308637, 94.9224969643335, 24.315883474383927, 239.19054757402424, 14.473180539295662]\n"
     ]
    }
   ],
   "source": [
    "h_users = users.groupby(users.index.hour).mean()\n",
    "# display(h_users[hc_un[5]].mean().max())\n",
    "\n",
    "h_max_eng = list()\n",
    "h_max_eng_km = list()\n",
    "for i in range(len(hc_un)):\n",
    "    h_max_eng.append(h_users[hc_un[i]].mean().max())\n",
    "    h_max_eng_km.append(h_users[km_un[i]].mean().max())\n",
    "\n",
    "\n",
    "print(h_max_eng)\n",
    "print(h_max_eng_km)"
   ]
  },
  {
   "cell_type": "code",
   "execution_count": 141,
   "metadata": {},
   "outputs": [
    {
     "data": {
      "text/html": [
       "<div>\n",
       "<style scoped>\n",
       "    .dataframe tbody tr th:only-of-type {\n",
       "        vertical-align: middle;\n",
       "    }\n",
       "\n",
       "    .dataframe tbody tr th {\n",
       "        vertical-align: top;\n",
       "    }\n",
       "\n",
       "    .dataframe thead th {\n",
       "        text-align: right;\n",
       "    }\n",
       "</style>\n",
       "<table border=\"1\" class=\"dataframe\">\n",
       "  <thead>\n",
       "    <tr style=\"text-align: right;\">\n",
       "      <th></th>\n",
       "      <th>TP_Braslovce trg_PLC_12767026_A+_6201</th>\n",
       "      <th>Utripalec Irje ZCF_A+_7601</th>\n",
       "      <th>Kabelska TV Bevkova ZCF_A+_2401</th>\n",
       "      <th>Skupna raba Prezihova 1 ZMF_A+_15301</th>\n",
       "      <th>Tajnsek Irena ZCF_A+_16201</th>\n",
       "      <th>Telekom ATC Zalec ZMF_A+_16401</th>\n",
       "      <th>Radio Fantasy ZMF_A+_2101</th>\n",
       "      <th>Telekom ATC Vruncev dom ZCF_A+_2601</th>\n",
       "      <th>Simobil bazna pos. kurilnica ZMF_A+_18201</th>\n",
       "    </tr>\n",
       "    <tr>\n",
       "      <th>Time</th>\n",
       "      <th></th>\n",
       "      <th></th>\n",
       "      <th></th>\n",
       "      <th></th>\n",
       "      <th></th>\n",
       "      <th></th>\n",
       "      <th></th>\n",
       "      <th></th>\n",
       "      <th></th>\n",
       "    </tr>\n",
       "  </thead>\n",
       "  <tbody>\n",
       "    <tr>\n",
       "      <td>1</td>\n",
       "      <td>0.078925</td>\n",
       "      <td>0.000250</td>\n",
       "      <td>0.005118</td>\n",
       "      <td>0.011219</td>\n",
       "      <td>0.010058</td>\n",
       "      <td>0.286012</td>\n",
       "      <td>0.109946</td>\n",
       "      <td>0.028236</td>\n",
       "      <td>0.281712</td>\n",
       "    </tr>\n",
       "    <tr>\n",
       "      <td>2</td>\n",
       "      <td>0.025370</td>\n",
       "      <td>0.000546</td>\n",
       "      <td>0.003488</td>\n",
       "      <td>0.301072</td>\n",
       "      <td>0.011480</td>\n",
       "      <td>0.806521</td>\n",
       "      <td>2139.226618</td>\n",
       "      <td>0.060795</td>\n",
       "      <td>0.240906</td>\n",
       "    </tr>\n",
       "    <tr>\n",
       "      <td>3</td>\n",
       "      <td>212.703036</td>\n",
       "      <td>0.000876</td>\n",
       "      <td>0.012737</td>\n",
       "      <td>0.006517</td>\n",
       "      <td>0.021399</td>\n",
       "      <td>0.709378</td>\n",
       "      <td>0.524069</td>\n",
       "      <td>0.050987</td>\n",
       "      <td>0.421280</td>\n",
       "    </tr>\n",
       "    <tr>\n",
       "      <td>4</td>\n",
       "      <td>0.047781</td>\n",
       "      <td>0.000659</td>\n",
       "      <td>0.126512</td>\n",
       "      <td>0.081851</td>\n",
       "      <td>0.010176</td>\n",
       "      <td>0.755874</td>\n",
       "      <td>0.207963</td>\n",
       "      <td>0.061293</td>\n",
       "      <td>0.127170</td>\n",
       "    </tr>\n",
       "  </tbody>\n",
       "</table>\n",
       "</div>"
      ],
      "text/plain": [
       "      TP_Braslovce trg_PLC_12767026_A+_6201  Utripalec Irje ZCF_A+_7601  \\\n",
       "Time                                                                      \n",
       "1                                  0.078925                    0.000250   \n",
       "2                                  0.025370                    0.000546   \n",
       "3                                212.703036                    0.000876   \n",
       "4                                  0.047781                    0.000659   \n",
       "\n",
       "      Kabelska TV Bevkova ZCF_A+_2401  Skupna raba Prezihova 1 ZMF_A+_15301  \\\n",
       "Time                                                                          \n",
       "1                            0.005118                              0.011219   \n",
       "2                            0.003488                              0.301072   \n",
       "3                            0.012737                              0.006517   \n",
       "4                            0.126512                              0.081851   \n",
       "\n",
       "      Tajnsek Irena ZCF_A+_16201  Telekom ATC Zalec ZMF_A+_16401  \\\n",
       "Time                                                               \n",
       "1                       0.010058                        0.286012   \n",
       "2                       0.011480                        0.806521   \n",
       "3                       0.021399                        0.709378   \n",
       "4                       0.010176                        0.755874   \n",
       "\n",
       "      Radio Fantasy ZMF_A+_2101  Telekom ATC Vruncev dom ZCF_A+_2601  \\\n",
       "Time                                                                   \n",
       "1                      0.109946                             0.028236   \n",
       "2                   2139.226618                             0.060795   \n",
       "3                      0.524069                             0.050987   \n",
       "4                      0.207963                             0.061293   \n",
       "\n",
       "      Simobil bazna pos. kurilnica ZMF_A+_18201  \n",
       "Time                                             \n",
       "1                                      0.281712  \n",
       "2                                      0.240906  \n",
       "3                                      0.421280  \n",
       "4                                      0.127170  "
      ]
     },
     "metadata": {},
     "output_type": "display_data"
    }
   ],
   "source": [
    "q_users = users.groupby(users.index.quarter).std()\n",
    "display(q_users[hc_un[5]])"
   ]
  },
  {
   "cell_type": "code",
   "execution_count": null,
   "metadata": {},
   "outputs": [],
   "source": []
  }
 ],
 "metadata": {
  "kernelspec": {
   "display_name": "Python 3",
   "language": "python",
   "name": "python3"
  },
  "language_info": {
   "codemirror_mode": {
    "name": "ipython",
    "version": 3
   },
   "file_extension": ".py",
   "mimetype": "text/x-python",
   "name": "python",
   "nbconvert_exporter": "python",
   "pygments_lexer": "ipython3",
   "version": "3.7.4"
  }
 },
 "nbformat": 4,
 "nbformat_minor": 2
}
